{
 "cells": [
  {
   "cell_type": "code",
   "execution_count": 1,
   "id": "ba3166a8",
   "metadata": {},
   "outputs": [],
   "source": [
    "import nltk\n",
    "#nltk.download(\"punkt\")\n",
    "#nltk.download(\"averaged_perceptron_tagger\")\n",
    "#nltk.download(\"maxent_ne_chunker\")\n",
    "#nltk.download(\"all\")"
   ]
  },
  {
   "cell_type": "code",
   "execution_count": 2,
   "id": "5c1f5607",
   "metadata": {},
   "outputs": [],
   "source": [
    "texto = \"The world as we have created it is a process of our thinking. It cannot be changed without changing our thinking.\""
   ]
  },
  {
   "cell_type": "code",
   "execution_count": 3,
   "id": "48b83371",
   "metadata": {},
   "outputs": [
    {
     "data": {
      "text/plain": [
       "['The world as we have created it is a process of our thinking.',\n",
       " 'It cannot be changed without changing our thinking.']"
      ]
     },
     "execution_count": 3,
     "metadata": {},
     "output_type": "execute_result"
    }
   ],
   "source": [
    "#Separar Texto por frases\n",
    "phrases = nltk.tokenize.sent_tokenize(texto)\n",
    "phrases"
   ]
  },
  {
   "cell_type": "code",
   "execution_count": 4,
   "id": "85a8c58c",
   "metadata": {},
   "outputs": [
    {
     "data": {
      "text/plain": [
       "['The',\n",
       " 'world',\n",
       " 'as',\n",
       " 'we',\n",
       " 'have',\n",
       " 'created',\n",
       " 'it',\n",
       " 'is',\n",
       " 'a',\n",
       " 'process',\n",
       " 'of',\n",
       " 'our',\n",
       " 'thinking',\n",
       " '.',\n",
       " 'It',\n",
       " 'can',\n",
       " 'not',\n",
       " 'be',\n",
       " 'changed',\n",
       " 'without',\n",
       " 'changing',\n",
       " 'our',\n",
       " 'thinking',\n",
       " '.']"
      ]
     },
     "execution_count": 4,
     "metadata": {},
     "output_type": "execute_result"
    }
   ],
   "source": [
    "#Separar palavras\n",
    "tokens = nltk.word_tokenize(texto)\n",
    "tokens"
   ]
  },
  {
   "cell_type": "code",
   "execution_count": 5,
   "id": "f8c2787e",
   "metadata": {},
   "outputs": [
    {
     "data": {
      "text/plain": [
       "[('The', 'DT'),\n",
       " ('world', 'NN'),\n",
       " ('as', 'IN'),\n",
       " ('we', 'PRP'),\n",
       " ('have', 'VBP'),\n",
       " ('created', 'VBN'),\n",
       " ('it', 'PRP'),\n",
       " ('is', 'VBZ'),\n",
       " ('a', 'DT'),\n",
       " ('process', 'NN'),\n",
       " ('of', 'IN'),\n",
       " ('our', 'PRP$'),\n",
       " ('thinking', 'NN'),\n",
       " ('.', '.'),\n",
       " ('It', 'PRP'),\n",
       " ('can', 'MD'),\n",
       " ('not', 'RB'),\n",
       " ('be', 'VB'),\n",
       " ('changed', 'VBN'),\n",
       " ('without', 'IN'),\n",
       " ('changing', 'VBG'),\n",
       " ('our', 'PRP$'),\n",
       " ('thinking', 'NN'),\n",
       " ('.', '.')]"
      ]
     },
     "execution_count": 5,
     "metadata": {},
     "output_type": "execute_result"
    }
   ],
   "source": [
    "#Classificar palavras\n",
    "tagged = nltk.pos_tag(tokens)\n",
    "tagged"
   ]
  },
  {
   "cell_type": "code",
   "execution_count": 6,
   "id": "3a4a8a40",
   "metadata": {},
   "outputs": [],
   "source": [
    "#import os\n",
    "#gs_path = \"C:\\Program Files\\gs\\gs9.55.0\\bin\"\n",
    "#os.environ['PATH'] += os.pathsep + gs_path"
   ]
  },
  {
   "cell_type": "code",
   "execution_count": 7,
   "id": "4e343058",
   "metadata": {},
   "outputs": [
    {
     "data": {
      "image/png": "[encoded data removed]",
      "text/plain": [
       "Tree('S', [('The', 'DT'), ('world', 'NN'), ('as', 'IN'), ('we', 'PRP'), ('have', 'VBP'), ('created', 'VBN'), ('it', 'PRP'), ('is', 'VBZ'), ('a', 'DT'), ('process', 'NN'), ('of', 'IN'), ('our', 'PRP$'), ('thinking', 'NN'), ('.', '.'), ('It', 'PRP'), ('can', 'MD'), ('not', 'RB'), ('be', 'VB'), ('changed', 'VBN'), ('without', 'IN'), ('changing', 'VBG'), ('our', 'PRP$'), ('thinking', 'NN'), ('.', '.')])"
      ]
     },
     "execution_count": 7,
     "metadata": {},
     "output_type": "execute_result"
    }
   ],
   "source": [
    "entities = nltk.chunk.ne_chunk(tagged)\n",
    "entities"
   ]
  }
 ],
 "metadata": {
  "kernelspec": {
   "display_name": "Python 3 (ipykernel)",
   "language": "python",
   "name": "python3"
  },
  "language_info": {
   "codemirror_mode": {
    "name": "ipython",
    "version": 3
   },
   "file_extension": ".py",
   "mimetype": "text/x-python",
   "name": "python",
   "nbconvert_exporter": "python",
   "pygments_lexer": "ipython3",
   "version": "3.7.5"
  }
 },
 "nbformat": 4,
 "nbformat_minor": 5
}
